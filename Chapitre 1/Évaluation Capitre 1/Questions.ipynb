{
 "cells": [
  {
   "cell_type": "markdown",
   "metadata": {},
   "source": [
    "### Différencier ces trois concepts:\n",
    "\n",
    "**Scientifique théorique** -­­­> définir les propriété d'un concept  (Exemple le triangle rectangle) à l'aide de language mathématique pour définir les propriété.\n",
    "\n",
    "**Scientifique expérimentale** -> développer des outils/méthodes/protocole pour contruire les triangles rectangles et d'en mesurer les propriété avec la meilleur précision possible.\n",
    "\n",
    "**Sciences numériques** -> Construire des algortihmes et des dispositifs de calcul efficaces\n",
    "\n",
    "_____________\n",
    "1.1"
   ]
  }
 ],
 "metadata": {
  "language_info": {
   "name": "python"
  }
 },
 "nbformat": 4,
 "nbformat_minor": 2
}
