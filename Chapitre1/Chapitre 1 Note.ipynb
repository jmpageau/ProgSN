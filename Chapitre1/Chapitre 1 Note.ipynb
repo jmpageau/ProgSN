{
 "cells": [
  {
   "cell_type": "markdown",
   "metadata": {},
   "source": [
    "# Chapitre 1"
   ]
  },
  {
   "cell_type": "markdown",
   "metadata": {},
   "source": [
    "## Notes COURS 1\n",
    "\n",
    "## QUESTION AUX ÉLÈVES:\n",
    "\n",
    "Qu'est-ce que la programmation ?\n",
    "\n",
    "Qu'est-ce que les sciences numériques ?\n",
    "\n",
    "## 1.1 Introduction générale\n",
    "### L'informatique et la programmation\n",
    "\n",
    "Les machine à calcul sont nécessaires pour tirer pleinement profit des algorithmes numériques. La calculatrice est une machine simple pour résoudre des opération de base, tandis que l'ordinateur peut traiter un grande quantiter de calcul très rapidements si utilisé correctement.\n",
    "\n",
    "\n",
    "### Intéret de la programmation en science\n",
    "\n",
    "Scientifique théorique -­­­> définir les propriété d'un concept  (Exemple le triangle rectangle) à l'aide de language mathématique pour définir les propriété.\n",
    "\n",
    "Scientifique expérimentale -> développer des outils/méthodes/protocole pour contruire les triangles rectangles et d'en mesurer les propriété avec la meilleur précision possible.\n",
    "\n",
    "Sciences numériques -> Construire des algortihmes et des dispositifs de calcul efficaces\n",
    "\n",
    "### Exemple Algorithme numérique\n",
    "\n",
    "Calcul d'une racine carrée ! Méthode attribué à Héron d'Alexandrie\n",
    "\n",
    "Exemple page 2 de la racine carré, Bon exemple puisque c'est un méthode mathématique très simple."
   ]
  },
  {
   "cell_type": "code",
   "execution_count": 1,
   "metadata": {},
   "outputs": [
    {
     "name": "stdout",
     "output_type": "stream",
     "text": [
      "La racine carrée de 9 est approximativement 3.0\n"
     ]
    }
   ],
   "source": [
    "# CETTE CELLULE EST UN EXEMPLE POUR QU'ON PUISSE DÉMONTRER LA PUISSANCE DE LA MACHINE,\n",
    "# SI LE TEMPS DONNER QUELQUES MIN AUX ÉLÈVES POUR FAIRE LE CALCUL À LA MAIN\n",
    "####################################################################################\n",
    "\n",
    "def racine_carree_heron(a, precision=1e-10):\n",
    "    x0 = a / 2  # Choisir une valeur de départ\n",
    "    while True:\n",
    "        x = (x0 + a / x0) / 2  # Calculer la valeur de x\n",
    "        if abs(x - x0) < precision:  # Vérifier si la précision est atteinte\n",
    "            return x\n",
    "        x0 = x  # Redéfinir x0 pour la prochaine itération\n",
    "\n",
    "# Exemple d'utilisation\n",
    "a = 9\n",
    "resultat = racine_carree_heron(a)\n",
    "print(f\"La racine carrée de {a} est approximativement {resultat}\")"
   ]
  },
  {
   "cell_type": "code",
   "execution_count": null,
   "metadata": {},
   "outputs": [],
   "source": []
  },
  {
   "cell_type": "markdown",
   "metadata": {},
   "source": []
  },
  {
   "cell_type": "code",
   "execution_count": null,
   "metadata": {},
   "outputs": [],
   "source": [
    "\n"
   ]
  }
 ],
 "metadata": {
  "kernelspec": {
   "display_name": "Python 3",
   "language": "python",
   "name": "python3"
  },
  "language_info": {
   "codemirror_mode": {
    "name": "ipython",
    "version": 3
   },
   "file_extension": ".py",
   "mimetype": "text/x-python",
   "name": "python",
   "nbconvert_exporter": "python",
   "pygments_lexer": "ipython3",
   "version": "3.10.11"
  }
 },
 "nbformat": 4,
 "nbformat_minor": 2
}
