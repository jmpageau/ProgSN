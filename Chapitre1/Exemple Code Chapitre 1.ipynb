{
 "cells": [
  {
   "cell_type": "markdown",
   "metadata": {},
   "source": [
    "### 1.0 Exemple Algorithm pour désinner un triangle rectangle\n"
   ]
  },
  {
   "cell_type": "code",
   "execution_count": 4,
   "metadata": {},
   "outputs": [
    {
     "name": "stdout",
     "output_type": "stream",
     "text": [
      "*\n",
      "**\n",
      "***\n",
      "****\n",
      "*****\n"
     ]
    }
   ],
   "source": [
    "def draw_right_triangle(height):\n",
    "    for i in range(1, height + 1):\n",
    "        print('*' * i)\n",
    "\n",
    "# Exemple d'utilisation\n",
    "height = 5\n",
    "draw_right_triangle(height)\n"
   ]
  },
  {
   "cell_type": "markdown",
   "metadata": {},
   "source": [
    "### 1.1 Calcul d'une racine carrée ! Méthode attribué à Héron d'Alexandrie"
   ]
  },
  {
   "cell_type": "code",
   "execution_count": 2,
   "metadata": {},
   "outputs": [
    {
     "name": "stdout",
     "output_type": "stream",
     "text": [
      "La racine carrée de 10 est approximativement 3.162277660168379\n"
     ]
    }
   ],
   "source": [
    "def racine_carree_heron(a, precision=1e-10):\n",
    "    x0 = a / 2  # Choisir une valeur de départ\n",
    "    while True:\n",
    "        x = (x0 + a / x0) / 2  # Calculer la valeur de x\n",
    "        if abs(x - x0) < precision:  # Vérifier si la précision est atteinte\n",
    "            return x\n",
    "        x0 = x  # Redéfinir x0 pour la prochaine itération\n",
    "\n",
    "# Exemple d'utilisation\n",
    "a = 10\n",
    "resultat = racine_carree_heron(a)\n",
    "print(f\"La racine carrée de {a} est approximativement {resultat}\")"
   ]
  },
  {
   "cell_type": "markdown",
   "metadata": {},
   "source": [
    "### 1.2 "
   ]
  }
 ],
 "metadata": {
  "kernelspec": {
   "display_name": "Python 3",
   "language": "python",
   "name": "python3"
  },
  "language_info": {
   "codemirror_mode": {
    "name": "ipython",
    "version": 3
   },
   "file_extension": ".py",
   "mimetype": "text/x-python",
   "name": "python",
   "nbconvert_exporter": "python",
   "pygments_lexer": "ipython3",
   "version": "3.10.11"
  }
 },
 "nbformat": 4,
 "nbformat_minor": 2
}
