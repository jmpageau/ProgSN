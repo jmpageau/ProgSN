{
 "cells": [
  {
   "cell_type": "markdown",
   "metadata": {},
   "source": [
    "## Laboratoire semaine 1\n",
    "\n",
    "Effectuer les exercices selon ce qui est demandé. Certains exercices auront déjà du code, vous devrez ajouter le code dans les zones indiquées sois entre les #."
   ]
  },
  {
   "cell_type": "markdown",
   "metadata": {},
   "source": [
    "#### 1. Afficher du texte.\n",
    "Dans la cellule ci-bas, écrivez le code pour afficher \"Bonjour\" puis réaliser un autre affichage disant \"comment ça va?\""
   ]
  },
  {
   "cell_type": "code",
   "execution_count": null,
   "metadata": {},
   "outputs": [],
   "source": []
  },
  {
   "cell_type": "markdown",
   "metadata": {},
   "source": [
    "#### 2. Afficher une variable.\n",
    "\n",
    "Ajoutez le code pour afficher la variable x.\n",
    "\n",
    "Résultat attendu: Affichage --> 15"
   ]
  },
  {
   "cell_type": "code",
   "execution_count": 2,
   "metadata": {},
   "outputs": [],
   "source": [
    "x = 15\n",
    "##### Ajouter votre code ci-bas #####\n",
    "\n",
    "#####################################"
   ]
  },
  {
   "cell_type": "markdown",
   "metadata": {},
   "source": [
    "#### 3. Addition.\n",
    "\n",
    "Ajoutez le code pour créer une variable nommée _**somme**_ suivi d'un égal et faire l'addition de a et b.\n",
    "\n",
    "Résultat attendu: Affichage --> La somme est : 42"
   ]
  },
  {
   "cell_type": "code",
   "execution_count": 3,
   "metadata": {},
   "outputs": [
    {
     "ename": "NameError",
     "evalue": "name 'somme' is not defined",
     "output_type": "error",
     "traceback": [
      "\u001b[1;31m---------------------------------------------------------------------------\u001b[0m",
      "\u001b[1;31mNameError\u001b[0m                                 Traceback (most recent call last)",
      "Cell \u001b[1;32mIn[3], line 8\u001b[0m\n\u001b[0;32m      2\u001b[0m b \u001b[38;5;241m=\u001b[39m \u001b[38;5;241m27\u001b[39m\n\u001b[0;32m      4\u001b[0m \u001b[38;5;66;03m##### Ajouter votre code ci-bas #####\u001b[39;00m\n\u001b[0;32m      5\u001b[0m \n\u001b[0;32m      6\u001b[0m \u001b[38;5;66;03m#####################################\u001b[39;00m\n\u001b[1;32m----> 8\u001b[0m \u001b[38;5;28mprint\u001b[39m(\u001b[38;5;124m\"\u001b[39m\u001b[38;5;124mLa somme est :\u001b[39m\u001b[38;5;124m\"\u001b[39m, \u001b[43msomme\u001b[49m)\n",
      "\u001b[1;31mNameError\u001b[0m: name 'somme' is not defined"
     ]
    }
   ],
   "source": [
    "a = 15\n",
    "b = 27\n",
    "\n",
    "##### Ajouter votre code ci-bas #####\n",
    "\n",
    "#####################################\n",
    "\n",
    "print(\"La somme est :\", somme)"
   ]
  },
  {
   "cell_type": "markdown",
   "metadata": {},
   "source": [
    "#### 4. Soustraction.\n",
    "\n",
    "Ajoutez le code pour faire la soustration de a et b. Puis afficher : La différence est : _**votre résultat**_\n",
    "\n",
    "Résultat attendu: Affichage --> La différence est : 28"
   ]
  },
  {
   "cell_type": "code",
   "execution_count": 4,
   "metadata": {},
   "outputs": [],
   "source": [
    "a = 52\n",
    "b = 24\n",
    "\n",
    "##### Ajouter votre code ci-bas #####\n",
    "\n",
    "#####################################"
   ]
  },
  {
   "cell_type": "markdown",
   "metadata": {},
   "source": [
    "#### 5. Multiplication\n",
    "\n",
    "Ajoutez le code pour faire la multiplication de a et b (pour faire une multiplication on utilise le symbole * ). Puis afficher : Le produit est : _**votre résultat**_\n",
    "\n",
    "Résultat attendu: Affichage --> Le produit est : 27"
   ]
  },
  {
   "cell_type": "code",
   "execution_count": 5,
   "metadata": {},
   "outputs": [],
   "source": [
    "a = 9\n",
    "b = 3\n",
    "\n",
    "##### Ajouter votre code ci-bas #####\n",
    "\n",
    "#####################################"
   ]
  },
  {
   "cell_type": "markdown",
   "metadata": {},
   "source": [
    "#### 6. Division\n",
    "\n",
    "Ajoutez le code pour faire la division de a et b (pour faire une division on utilise le symbole / ). Puis afficher : Le quotient est : _**votre résultat**_\n",
    "\n",
    "Résultat attendu: Affichage --> Le quotient est : 17.0"
   ]
  },
  {
   "cell_type": "code",
   "execution_count": 7,
   "metadata": {},
   "outputs": [],
   "source": [
    "a = 85\n",
    "b = 5\n",
    "\n",
    "##### Ajouter votre code ci-bas #####\n",
    "\n",
    "#####################################"
   ]
  },
  {
   "cell_type": "markdown",
   "metadata": {},
   "source": [
    "#### Défi\n",
    "\n",
    "Bloc 1:  \n",
    "Créez 4 variables soit: a -­> 10, b -> 3, x -> 6, y -> 12.  \n",
    "Créez une variable résultat1 effectuant : (a + b) * x - y.\n",
    "\n",
    "Bloc 2:  \n",
    "Créer un variable nommé résultat2 qui est la varaible résultat1 / x\n",
    "\n",
    "\n",
    "Résultat attendu:    \n",
    "Le résultat1 est : 66  \n",
    "Le résultat est : 11.0"
   ]
  },
  {
   "cell_type": "code",
   "execution_count": 20,
   "metadata": {},
   "outputs": [
    {
     "name": "stdout",
     "output_type": "stream",
     "text": [
      "Le résultat est : 66\n",
      "Le résultat est : 11.0\n"
     ]
    }
   ],
   "source": [
    "##### Ajouter votre code ci-bas #####\n",
    "\n",
    "#####################################\n",
    "\n",
    "print(\"Le résultat est :\", résultat1)\n",
    "\n",
    "##### Ajouter votre code ci-bas #####\n",
    "\n",
    "#####################################\n",
    "print(\"Le résultat est :\", résultat2)"
   ]
  }
 ],
 "metadata": {
  "kernelspec": {
   "display_name": "Python 3",
   "language": "python",
   "name": "python3"
  },
  "language_info": {
   "codemirror_mode": {
    "name": "ipython",
    "version": 3
   },
   "file_extension": ".py",
   "mimetype": "text/x-python",
   "name": "python",
   "nbconvert_exporter": "python",
   "pygments_lexer": "ipython3",
   "version": "3.10.11"
  }
 },
 "nbformat": 4,
 "nbformat_minor": 2
}
