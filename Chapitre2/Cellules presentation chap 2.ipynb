{
 "cells": [
  {
   "cell_type": "code",
   "execution_count": 5,
   "metadata": {},
   "outputs": [
    {
     "name": "stdout",
     "output_type": "stream",
     "text": [
      "5.0\n"
     ]
    }
   ],
   "source": [
    "# Voici un commentaire\n",
    "côté1 = 3\n",
    "côté2 = 4\n",
    "\n",
    "h = (côté1**2 + côté2**2)**0.5 # Calculer l'hypothenuse d'un triangle rectangle\n",
    "print(h)"
   ]
  },
  {
   "cell_type": "code",
   "execution_count": 6,
   "metadata": {},
   "outputs": [
    {
     "name": "stdout",
     "output_type": "stream",
     "text": [
      "3.00136132096775\n"
     ]
    }
   ],
   "source": [
    "# Programme qui montre comment\n",
    "# utiliser le module math pour\n",
    "# calculer le rayon d'un cercle\n",
    "# à partir de son aire\n",
    "\n",
    "import math\n",
    "\n",
    "def calculer_rayon(aire):\n",
    "    return math.sqrt(aire / math.pi)\n",
    "# Rappel: A = pi * r**2 (** = exposant)\n",
    "\n",
    "aire = 28.3\n",
    "\n",
    "rayon = calculer_rayon(aire) \n",
    "\n",
    "print(rayon)"
   ]
  },
  {
   "cell_type": "code",
   "execution_count": 7,
   "metadata": {},
   "outputs": [
    {
     "name": "stdout",
     "output_type": "stream",
     "text": [
      "5.0\n"
     ]
    }
   ],
   "source": [
    "import math\n",
    "\n",
    "# Longueur des côté d'un triangle rectangle\n",
    "x = 3\n",
    "y = 4\n",
    "\n",
    "# Calculer l'hypothénuse\n",
    "h = math.sqrt(x**2 + y**2)\n",
    "\n",
    "print(h)"
   ]
  },
  {
   "cell_type": "code",
   "execution_count": 1,
   "metadata": {},
   "outputs": [
    {
     "name": "stdout",
     "output_type": "stream",
     "text": [
      "2.0000000000000004\n"
     ]
    }
   ],
   "source": [
    "import math\n",
    "print(math.sqrt(2)**2)"
   ]
  },
  {
   "cell_type": "code",
   "execution_count": 2,
   "metadata": {},
   "outputs": [
    {
     "name": "stdout",
     "output_type": "stream",
     "text": [
      "4.440892098500626e-16\n"
     ]
    }
   ],
   "source": [
    "# Valeur absolue\n",
    "import math\n",
    "print(math.sqrt(2)**2 - 2)"
   ]
  },
  {
   "cell_type": "code",
   "execution_count": 3,
   "metadata": {},
   "outputs": [
    {
     "name": "stdout",
     "output_type": "stream",
     "text": [
      "2.220446049250313e-14 %\n"
     ]
    }
   ],
   "source": [
    "# valeur relative\n",
    "import math\n",
    "theorique = 2\n",
    "numerique = math.sqrt(2)**2\n",
    "\n",
    "erreur_relative = 100 * (numerique - theorique) / theorique\n",
    "\n",
    "print(erreur_relative, '%')"
   ]
  },
  {
   "cell_type": "code",
   "execution_count": 4,
   "metadata": {},
   "outputs": [
    {
     "name": "stdout",
     "output_type": "stream",
     "text": [
      "5\n"
     ]
    }
   ],
   "source": [
    "# variables\n",
    "x = 5\n",
    "print(x)"
   ]
  },
  {
   "cell_type": "code",
   "execution_count": 5,
   "metadata": {},
   "outputs": [
    {
     "ename": "TypeError",
     "evalue": "can only concatenate str (not \"int\") to str",
     "output_type": "error",
     "traceback": [
      "\u001b[1;31m---------------------------------------------------------------------------\u001b[0m",
      "\u001b[1;31mTypeError\u001b[0m                                 Traceback (most recent call last)",
      "Cell \u001b[1;32mIn[5], line 2\u001b[0m\n\u001b[0;32m      1\u001b[0m age \u001b[38;5;241m=\u001b[39m \u001b[38;5;124m\"\u001b[39m\u001b[38;5;124m36\u001b[39m\u001b[38;5;124m\"\u001b[39m\n\u001b[1;32m----> 2\u001b[0m vieux \u001b[38;5;241m=\u001b[39m \u001b[43mage\u001b[49m\u001b[43m \u001b[49m\u001b[38;5;241;43m+\u001b[39;49m\u001b[43m \u001b[49m\u001b[38;5;241;43m5\u001b[39;49m \n",
      "\u001b[1;31mTypeError\u001b[0m: can only concatenate str (not \"int\") to str"
     ]
    }
   ],
   "source": [
    "age = \"36\"\n",
    "vieux = age + 5 "
   ]
  },
  {
   "cell_type": "code",
   "execution_count": 6,
   "metadata": {},
   "outputs": [
    {
     "name": "stdout",
     "output_type": "stream",
     "text": [
      "41\n"
     ]
    }
   ],
   "source": [
    "age = \"36\"\n",
    "age = int(36)\n",
    "vieux = age + 5\n",
    "print(vieux) "
   ]
  },
  {
   "cell_type": "code",
   "execution_count": 7,
   "metadata": {},
   "outputs": [
    {
     "name": "stdout",
     "output_type": "stream",
     "text": [
      "62.8318\n"
     ]
    }
   ],
   "source": [
    "# Constantes\n",
    "PI = 3.14159\n",
    "rayon = 10\n",
    "circonférence = 2 * PI * rayon\n",
    "\n",
    "print(circonférence)"
   ]
  },
  {
   "cell_type": "code",
   "execution_count": 8,
   "metadata": {},
   "outputs": [
    {
     "name": "stdout",
     "output_type": "stream",
     "text": [
      "3\n",
      "14\n"
     ]
    }
   ],
   "source": [
    "x = 3\n",
    "print(x)\n",
    "x = 3*x + 5\n",
    "print(x)"
   ]
  },
  {
   "cell_type": "code",
   "execution_count": 12,
   "metadata": {},
   "outputs": [
    {
     "name": "stdout",
     "output_type": "stream",
     "text": [
      "5\n",
      "5\n"
     ]
    }
   ],
   "source": [
    "#Échange de variables\n",
    "x = 5\n",
    "y = 2\n",
    "y = x\n",
    "x = y\n",
    "print(x)\n",
    "print(y)"
   ]
  },
  {
   "cell_type": "code",
   "execution_count": 13,
   "metadata": {},
   "outputs": [
    {
     "name": "stdout",
     "output_type": "stream",
     "text": [
      "2\n",
      "5\n"
     ]
    }
   ],
   "source": [
    "x = 5\n",
    "y = 2\n",
    "\n",
    "x, y = y, x\n",
    "print(x)\n",
    "print(y)"
   ]
  },
  {
   "cell_type": "code",
   "execution_count": 17,
   "metadata": {},
   "outputs": [
    {
     "name": "stdout",
     "output_type": "stream",
     "text": [
      "Vincent\n"
     ]
    }
   ],
   "source": [
    "question = \"Quel est votre nom? \"\n",
    "nom = input(question)\n",
    "\n",
    "print(nom)"
   ]
  },
  {
   "cell_type": "code",
   "execution_count": 18,
   "metadata": {},
   "outputs": [],
   "source": [
    "marque = input(\"Quelle est votre saveur de \\\"chips\\\" favorite? \")"
   ]
  },
  {
   "cell_type": "code",
   "execution_count": 19,
   "metadata": {},
   "outputs": [
    {
     "name": "stdout",
     "output_type": "stream",
     "text": [
      "Il y a 365 jours dans une année.\n"
     ]
    }
   ],
   "source": [
    "#Fonction print\n",
    "print(\"Il y a\", 365, \"jours dans une année.\")"
   ]
  },
  {
   "cell_type": "code",
   "execution_count": 20,
   "metadata": {},
   "outputs": [
    {
     "name": "stdout",
     "output_type": "stream",
     "text": [
      "Il y a 365 jours dans une année.\n"
     ]
    }
   ],
   "source": [
    "ANNEE_JOURS = 365\n",
    "print(f\"Il y a {ANNEE_JOURS} jours dans une année.\")"
   ]
  },
  {
   "cell_type": "code",
   "execution_count": 23,
   "metadata": {},
   "outputs": [
    {
     "name": "stdout",
     "output_type": "stream",
     "text": [
      "Notre valeur sin est 1.00\n",
      "Notre angle est 90.00 degrés\n"
     ]
    }
   ],
   "source": [
    "# Les fonction mathématiques\n",
    "import math\n",
    "\n",
    "valeur = math.pi / 2\n",
    "valeur_sin = math.sin(valeur)\n",
    "print(f\"Notre valeur sin est {valeur_sin:.2f}\")\n",
    "\n",
    "print(f\"Notre angle est {math.degrees(math.pi / 2):.2f} degrés\")"
   ]
  },
  {
   "cell_type": "code",
   "execution_count": null,
   "metadata": {},
   "outputs": [],
   "source": [
    "def nom_de_la_fonction(paramètre):\n",
    "    valeur_de_retour = paramètre\n",
    "    # .... Instructions\n",
    "    return [valeur_de_retour]"
   ]
  },
  {
   "cell_type": "code",
   "execution_count": null,
   "metadata": {},
   "outputs": [],
   "source": [
    "def vieillir(nom, age):\n",
    "    age += 1\n",
    "    print(f\"{nom} a maintenant {age} ans.\")\n",
    "    return"
   ]
  },
  {
   "cell_type": "code",
   "execution_count": null,
   "metadata": {},
   "outputs": [],
   "source": [
    "# Exemple de nom de fonction\n",
    "def f(x,y): # incorrect\n",
    "    \n",
    "    \n",
    "    return\n",
    "\n",
    "def additionner(x, y): # correct\n",
    "    \n",
    "    \n",
    "    return"
   ]
  },
  {
   "cell_type": "code",
   "execution_count": null,
   "metadata": {},
   "outputs": [],
   "source": [
    "# Exemple de nom de fonction\n",
    "def airetriangle(base, hauteur): # incorrect\n",
    "    aire = base * hauteur / 2\n",
    "    return aire\n",
    "\n",
    "def calculer_aire_triangle(base, hauteur): # correct\n",
    "    aire = base * hauteur / 2\n",
    "    return aire"
   ]
  },
  {
   "cell_type": "code",
   "execution_count": 24,
   "metadata": {},
   "outputs": [
    {
     "name": "stdout",
     "output_type": "stream",
     "text": [
      "1. x vaut 2\n",
      "2. x vaut 5\n",
      "3. x vaut 2\n"
     ]
    }
   ],
   "source": [
    "def test(x):\n",
    "    x = x + 3\n",
    "    print(\"2. x vaut\", x)\n",
    "\n",
    "x = 2\n",
    "print(\"1. x vaut\", x)\n",
    "test(x)\n",
    "print(\"3. x vaut\", x)"
   ]
  },
  {
   "cell_type": "code",
   "execution_count": 25,
   "metadata": {},
   "outputs": [
    {
     "name": "stdout",
     "output_type": "stream",
     "text": [
      "0.0\n",
      "3.141592653589793\n"
     ]
    }
   ],
   "source": [
    "# Exemple test de fonction\n",
    "import math\n",
    "\n",
    "def calculer_aire_du_cercle(rayon):\n",
    "    PI = math.pi\n",
    "    aire = PI * rayon**2\n",
    "    return aire\n",
    "\n",
    "aire = calculer_aire_du_cercle(0)\n",
    "print(aire)\n",
    "aire = calculer_aire_du_cercle(1)\n",
    "print(aire)"
   ]
  },
  {
   "cell_type": "code",
   "execution_count": 27,
   "metadata": {},
   "outputs": [
    {
     "name": "stdout",
     "output_type": "stream",
     "text": [
      "Test réussi\n",
      "Test réussi\n",
      "Test réussi\n"
     ]
    }
   ],
   "source": [
    "# Exemple tests unitaires\n",
    "import math\n",
    "\n",
    "def calculer_aire_du_cercle(rayon):\n",
    "    PI = math.pi\n",
    "    aire = PI * rayon**2\n",
    "    return aire\n",
    "\n",
    "def test_calculer_aire_du_cercle(rayon, résultat_attendu):\n",
    "    aire = calculer_aire_du_cercle(rayon)\n",
    "    if aire == résultat_attendu:\n",
    "        print(\"Test réussi\")\n",
    "    else:\n",
    "        print(\"Test échoué\")\n",
    "        \n",
    "def executer_tests():\n",
    "    test_calculer_aire_du_cercle(0, 0)\n",
    "    test_calculer_aire_du_cercle(1, math.pi)\n",
    "    test_calculer_aire_du_cercle(2, 4 * math.pi)\n",
    "    \n",
    "executer_tests()\n"
   ]
  },
  {
   "cell_type": "code",
   "execution_count": 28,
   "metadata": {},
   "outputs": [],
   "source": [
    "def aire_triangle(base, hauteur):\n",
    "    aire = base * hauteur / 2\n",
    "    return aire\n",
    "\n",
    "def calculer_vecteur(x1, y1, x2, y2):\n",
    "    x3 = x2 - x1\n",
    "    y3 = y2 - y1\n",
    "    return x3, y3\n",
    "\n",
    "def saluer_Utilisateur(nom):\n",
    "    print(f\"Bonjour {nom}!\")\n",
    "    \n",
    "def bienvenue():\n",
    "    nom = input(\"Entrez votre nom: \")\n",
    "    print(f\"Bienvenue {nom}!\")\n",
    "\n",
    "def bonjour(nom = \"Bob\"):\n",
    "    print(f\"Bonjour {nom}!\")"
   ]
  },
  {
   "cell_type": "code",
   "execution_count": 36,
   "metadata": {},
   "outputs": [
    {
     "name": "stdout",
     "output_type": "stream",
     "text": [
      "Bonjour Bob!\n"
     ]
    }
   ],
   "source": [
    "bonjour()"
   ]
  }
 ],
 "metadata": {
  "kernelspec": {
   "display_name": "Python 3",
   "language": "python",
   "name": "python3"
  },
  "language_info": {
   "codemirror_mode": {
    "name": "ipython",
    "version": 3
   },
   "file_extension": ".py",
   "mimetype": "text/x-python",
   "name": "python",
   "nbconvert_exporter": "python",
   "pygments_lexer": "ipython3",
   "version": "3.10.11"
  }
 },
 "nbformat": 4,
 "nbformat_minor": 2
}
