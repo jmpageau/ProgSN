{
 "cells": [
  {
   "cell_type": "markdown",
   "metadata": {},
   "source": [
    "### 1. Écrivez un programme pour afficher votre nom (`str`), votre âge (`int`) et si vous êtes un adulte ou non (`bool`), et ensuite le contenu de ces variables. "
   ]
  },
  {
   "cell_type": "code",
   "execution_count": 1,
   "metadata": {},
   "outputs": [
    {
     "name": "stdout",
     "output_type": "stream",
     "text": [
      "Je m'appelle Sébastien\n",
      "J'ai 36 ans\n",
      "Je suis un adulte: True\n"
     ]
    }
   ],
   "source": [
    "nom = \"Sébastien\"\n",
    "age = 36\n",
    "est_adulte = True\n",
    "\n",
    "print(f\"Je m'appelle {nom}\")\n",
    "print(f\"J'ai {age} ans\")\n",
    "print(f\"Je suis un adulte: {est_adulte}\")\n"
   ]
  }
 ],
 "metadata": {
  "kernelspec": {
   "display_name": "Python 3",
   "language": "python",
   "name": "python3"
  },
  "language_info": {
   "codemirror_mode": {
    "name": "ipython",
    "version": 3
   },
   "file_extension": ".py",
   "mimetype": "text/x-python",
   "name": "python",
   "nbconvert_exporter": "python",
   "pygments_lexer": "ipython3",
   "version": "3.10.11"
  }
 },
 "nbformat": 4,
 "nbformat_minor": 2
}
