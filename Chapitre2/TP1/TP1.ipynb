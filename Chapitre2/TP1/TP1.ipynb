{
 "cells": [
  {
   "cell_type": "markdown",
   "metadata": {},
   "source": [
    "### Travail Pratique 1 - Les opérations arithmétiques  \n",
    "\n",
    "Nom :                       \n",
    "No de DA:\n",
    "\n",
    "Nom :  \n",
    "No de DA:"
   ]
  },
  {
   "cell_type": "markdown",
   "metadata": {},
   "source": [
    "#### Question 1: (2 points)\n",
    "Expliquez la différence entre les opérations de multiplication (*) et d'exponentiation (**) en Python. Donnez un exemple de chaque."
   ]
  },
  {
   "cell_type": "markdown",
   "metadata": {},
   "source": []
  },
  {
   "cell_type": "markdown",
   "metadata": {},
   "source": [
    "#### Question 2: (2 points)\n",
    "Décrivez ce que fait la méthode input(). Donnez un exemple de son utilisation."
   ]
  },
  {
   "cell_type": "markdown",
   "metadata": {},
   "source": []
  },
  {
   "cell_type": "markdown",
   "metadata": {},
   "source": [
    "#### Question 3: (2 points)\n",
    "Expliquez ce qu'est une \"variable\" en Python. Comment sont-elles utilisées pour stocker des informations dans un programme ?"
   ]
  },
  {
   "cell_type": "markdown",
   "metadata": {},
   "source": []
  },
  {
   "cell_type": "markdown",
   "metadata": {},
   "source": [
    "#### Question 4: Calcul de la moyenne de trois nombres (3 points)\n",
    "Écrivez un programme qui demande à l'utilisateur d'entrer trois nombres (Décimal) et qui affiche leur moyenne."
   ]
  },
  {
   "cell_type": "code",
   "execution_count": null,
   "metadata": {},
   "outputs": [],
   "source": []
  },
  {
   "cell_type": "markdown",
   "metadata": {},
   "source": [
    "#### Question 5: Conversion de Celsius en Fahrenheit (3 points)\n",
    "Écrivez un programme qui demande à l'utilisateur d'entrer une température en degrés Celsius (Décimal) et qui affiche la température correspondante en degrés Fahrenheit. La formule de conversion est : F = 9/5 x C + 32"
   ]
  },
  {
   "cell_type": "code",
   "execution_count": null,
   "metadata": {},
   "outputs": [],
   "source": []
  },
  {
   "cell_type": "markdown",
   "metadata": {},
   "source": [
    "#### Question 6: Affichage du nom complet (3 points)\n",
    "Écrivez un programme qui demande à l'utilisateur de saisir son prénom et son nom, puis affiche son nom complet sous la forme \"Prénom Nom\"."
   ]
  },
  {
   "cell_type": "code",
   "execution_count": null,
   "metadata": {},
   "outputs": [],
   "source": []
  },
  {
   "cell_type": "markdown",
   "metadata": {},
   "source": [
    "#### Question 7: Conversion de minutes en heures et minutes (3 points)\n",
    "Écrivez un programme qui demande à l'utilisateur d'entrer un nombre de minutes et qui affiche l'équivalent en heures et minutes."
   ]
  },
  {
   "cell_type": "code",
   "execution_count": null,
   "metadata": {},
   "outputs": [],
   "source": []
  },
  {
   "cell_type": "markdown",
   "metadata": {},
   "source": [
    "#### Question 8: Utilisation des constantes (3 poinst)\n",
    "\n",
    "Déclarez une constante pour la valeur de Pi (π = 3.14159) et utilisez-la pour calculer et afficher la circonférence d'un cercle. Demandez à l'utilisateur d'entrer le rayon (Décimal) du cercle."
   ]
  },
  {
   "cell_type": "code",
   "execution_count": null,
   "metadata": {},
   "outputs": [],
   "source": []
  },
  {
   "cell_type": "markdown",
   "metadata": {},
   "source": [
    "#### Question 9: Conversion d'entiers en chaînes de caractères (3 points)\n",
    "Écrivez un programme qui demande à l'utilisateur d'entrer un nombre entier. Convertissez ce nombre en une chaîne de caractères et affichez la longueur de cette chaîne."
   ]
  },
  {
   "cell_type": "code",
   "execution_count": null,
   "metadata": {},
   "outputs": [],
   "source": []
  },
  {
   "cell_type": "markdown",
   "metadata": {},
   "source": [
    "#### Question 10: Conversions et calculs (3 points)\n",
    "Écrivez un programme qui demande à l'utilisateur d'entrer deux nombres entiers. Convertissez ces nombres en flottants, effectuez la division du premier par le second, puis affichez le résultat."
   ]
  },
  {
   "cell_type": "code",
   "execution_count": null,
   "metadata": {},
   "outputs": [],
   "source": []
  },
  {
   "cell_type": "markdown",
   "metadata": {},
   "source": [
    "#### Question 11: Calcul du total des achats avec taxes (4 points)\n",
    "Vous devez créer un programme qui aide un client à calculer le coût total de ses achats dans un magasin. Le programme doit demander à l'utilisateur de saisir les prix (Décimal) de 5 articles, calculer le total avant taxes, appliquer les taxes, et afficher le total avant taxes, le montant des taxes, et le total après taxes."
   ]
  },
  {
   "cell_type": "code",
   "execution_count": null,
   "metadata": {},
   "outputs": [],
   "source": []
  },
  {
   "cell_type": "markdown",
   "metadata": {},
   "source": [
    "#### Question 12: Calcul du nombre de poissons dans un lac après 10 ans (4 points)\n",
    "Contexte :\n",
    "Vous avez un lac dans lequel il y a un certain nombre de poissons à l'année 0. Chaque année, le nombre de poissons augmente de 5% par rapport à l'année précédente. Vous devez écrire un programme qui demande à l'utilisateur d'entrer le nombre initial de poissons (ce qui sera votre année 0) et qui calcule le nombre de poissons après 10 ans.\n",
    "\n"
   ]
  },
  {
   "cell_type": "code",
   "execution_count": null,
   "metadata": {},
   "outputs": [],
   "source": []
  }
 ],
 "metadata": {
  "kernelspec": {
   "display_name": "Python 3",
   "language": "python",
   "name": "python3"
  },
  "language_info": {
   "codemirror_mode": {
    "name": "ipython",
    "version": 3
   },
   "file_extension": ".py",
   "mimetype": "text/x-python",
   "name": "python",
   "nbconvert_exporter": "python",
   "pygments_lexer": "ipython3",
   "version": "3.10.11"
  }
 },
 "nbformat": 4,
 "nbformat_minor": 2
}
