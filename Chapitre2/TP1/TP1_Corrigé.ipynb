{
 "cells": [
  {
   "cell_type": "markdown",
   "metadata": {},
   "source": [
    "### Travail Pratique 1 - Les opérations arithmétiques  \n",
    "\n",
    "Nom :                       \n",
    "No de DA:\n",
    "\n",
    "Nom :  \n",
    "No de DA:"
   ]
  },
  {
   "cell_type": "markdown",
   "metadata": {},
   "source": [
    "#### Question 1: (2 points)\n",
    "Expliquez la différence entre les opérations de multiplication (*) et d'exponentiation (**) en Python. Donnez un exemple de chaque."
   ]
  },
  {
   "cell_type": "markdown",
   "metadata": {},
   "source": []
  },
  {
   "cell_type": "markdown",
   "metadata": {},
   "source": [
    "#### Question 2: (2 points)\n",
    "Décrivez ce que fait la méthode input(). Donnez un exemple de son utilisation."
   ]
  },
  {
   "cell_type": "markdown",
   "metadata": {},
   "source": []
  },
  {
   "cell_type": "markdown",
   "metadata": {},
   "source": [
    "#### Question 3: (2 points)\n",
    "Expliquez ce qu'est une \"variable\" en Python. Comment sont-elles utilisées pour stocker des informations dans un programme ?"
   ]
  },
  {
   "cell_type": "markdown",
   "metadata": {},
   "source": []
  },
  {
   "cell_type": "markdown",
   "metadata": {},
   "source": [
    "#### Question 4: Calcul de la moyenne de trois nombres (3 points)\n",
    "Écrivez un programme qui demande à l'utilisateur d'entrer trois nombres (Décimal) et qui affiche leur moyenne."
   ]
  },
  {
   "cell_type": "code",
   "execution_count": 1,
   "metadata": {},
   "outputs": [
    {
     "name": "stdout",
     "output_type": "stream",
     "text": [
      "La moyenne des trois nombres est : 13.666666666666666\n"
     ]
    }
   ],
   "source": [
    "# Demander à l'utilisateur d'entrer les trois nombres\n",
    "nombre1 = float(input(\"Entrez le premier nombre : \"))\n",
    "nombre2 = float(input(\"Entrez le deuxième nombre : \"))\n",
    "nombre3 = float(input(\"Entrez le troisième nombre : \"))\n",
    "\n",
    "# Calculer la moyenne\n",
    "moyenne = (nombre1 + nombre2 + nombre3) / 3\n",
    "\n",
    "# Afficher la moyenne\n",
    "print(\"La moyenne des trois nombres est :\", moyenne)"
   ]
  },
  {
   "cell_type": "markdown",
   "metadata": {},
   "source": [
    "#### Question 5: Conversion de Celsius en Fahrenheit (3 points)\n",
    "Écrivez un programme qui demande à l'utilisateur d'entrer une température en degrés Celsius (Décimal) et qui affiche la température correspondante en degrés Fahrenheit. La formule de conversion est : F = 9/5 x C + 32"
   ]
  },
  {
   "cell_type": "code",
   "execution_count": 2,
   "metadata": {},
   "outputs": [
    {
     "name": "stdout",
     "output_type": "stream",
     "text": [
      "La température en Fahrenheit est : 86.0\n"
     ]
    }
   ],
   "source": [
    "# Demander à l'utilisateur d'entrer la température en Celsius\n",
    "celsius = float(input(\"Entrez la température en degrés Celsius : \"))\n",
    "\n",
    "# Convertir en Fahrenheit\n",
    "fahrenheit = (9/5) * celsius + 32\n",
    "\n",
    "# Afficher la température en Fahrenheit\n",
    "print(\"La température en Fahrenheit est :\", fahrenheit)"
   ]
  },
  {
   "cell_type": "markdown",
   "metadata": {},
   "source": [
    "#### Question 6: Affichage du nom complet (3 points)\n",
    "Écrivez un programme qui demande à l'utilisateur de saisir son prénom et son nom, puis affiche son nom complet sous la forme \"Prénom Nom\"."
   ]
  },
  {
   "cell_type": "code",
   "execution_count": 3,
   "metadata": {},
   "outputs": [
    {
     "name": "stdout",
     "output_type": "stream",
     "text": [
      "Votre nom complet est : Jean-Michel Pageau\n"
     ]
    }
   ],
   "source": [
    "# Demander à l'utilisateur d'entrer son prénom\n",
    "prenom = input(\"Entrez votre prénom : \")\n",
    "\n",
    "# Demander à l'utilisateur d'entrer son nom\n",
    "nom = input(\"Entrez votre nom : \")\n",
    "\n",
    "# Afficher le nom complet\n",
    "print(\"Votre nom complet est :\", prenom, nom)"
   ]
  },
  {
   "cell_type": "markdown",
   "metadata": {},
   "source": [
    "#### Question 7: Conversion de minutes en heures et minutes (3 points)\n",
    "Écrivez un programme qui demande à l'utilisateur d'entrer un nombre de minutes et qui affiche l'équivalent en heures et minutes."
   ]
  },
  {
   "cell_type": "code",
   "execution_count": 4,
   "metadata": {},
   "outputs": [
    {
     "name": "stdout",
     "output_type": "stream",
     "text": [
      "Cela fait 14 heures et 22 minutes.\n"
     ]
    }
   ],
   "source": [
    "# Demander à l'utilisateur d'entrer le nombre de minutes\n",
    "minutes = int(input(\"Entrez le nombre de minutes : \"))\n",
    "\n",
    "# Calculer le nombre d'heures et de minutes\n",
    "heures = minutes // 60\n",
    "minutes_restantes = minutes % 60\n",
    "\n",
    "# Afficher le résultat\n",
    "print(\"Cela fait\", heures, \"heures et\", minutes_restantes, \"minutes.\")"
   ]
  },
  {
   "cell_type": "markdown",
   "metadata": {},
   "source": [
    "#### Question 8: Utilisation des constantes (3 poinst)\n",
    "\n",
    "Déclarez une constante pour la valeur de Pi (π = 3.14159) et utilisez-la pour calculer et afficher la circonférence d'un cercle. Demandez à l'utilisateur d'entrer le rayon (Décimal) du cercle."
   ]
  },
  {
   "cell_type": "code",
   "execution_count": 5,
   "metadata": {},
   "outputs": [
    {
     "name": "stdout",
     "output_type": "stream",
     "text": [
      "La circonférence du cercle est : 37.699079999999995\n"
     ]
    }
   ],
   "source": [
    "# Déclaration de la constante Pi\n",
    "PI = 3.14159\n",
    "\n",
    "# Demander à l'utilisateur d'entrer le rayon du cercle\n",
    "rayon = float(input(\"Entrez le rayon du cercle : \"))\n",
    "\n",
    "# Calculer la circonférence\n",
    "circonference = 2 * PI * rayon\n",
    "\n",
    "# Afficher la circonférence\n",
    "print(\"La circonférence du cercle est :\", circonference)"
   ]
  },
  {
   "cell_type": "markdown",
   "metadata": {},
   "source": [
    "#### Question 9: Conversion d'entiers en chaînes de caractères (3 points)\n",
    "Écrivez un programme qui demande à l'utilisateur d'entrer un nombre entier. Convertissez ce nombre en une chaîne de caractères et affichez la longueur de cette chaîne."
   ]
  },
  {
   "cell_type": "code",
   "execution_count": 9,
   "metadata": {},
   "outputs": [
    {
     "name": "stdout",
     "output_type": "stream",
     "text": [
      "6.0\n"
     ]
    }
   ],
   "source": [
    "# Demander à l'utilisateur d'entrer un nombre entier\n",
    "nombre = int(input(\"Entrez un nombre entier : \"))\n",
    "\n",
    "# Convertir le nombre en chaîne de caractères\n",
    "chaine = str(nombre)\n",
    "\n",
    "# Afficher la longueur de la chaîne\n",
    "print(\"La longueur de la chaîne est :\", len(chaine))"
   ]
  },
  {
   "cell_type": "markdown",
   "metadata": {},
   "source": [
    "#### Question 10: Conversions et calculs (3 points)\n",
    "Écrivez un programme qui demande à l'utilisateur d'entrer deux nombres entiers. Convertissez ces nombres en flottants, effectuez la division du premier par le second, puis affichez le résultat."
   ]
  },
  {
   "cell_type": "code",
   "execution_count": null,
   "metadata": {},
   "outputs": [],
   "source": [
    "# Demander à l'utilisateur d'entrer deux nombres entiers\n",
    "nombre1 = int(input(\"Entrez le premier nombre entier : \"))\n",
    "nombre2 = int(input(\"Entrez le deuxième nombre entier : \"))\n",
    "\n",
    "# Convertir les nombres en flottants\n",
    "nombre1_float = float(nombre1)\n",
    "nombre2_float = float(nombre2)\n",
    "\n",
    "# Effectuer la division\n",
    "resultat = nombre1_float / nombre2_float\n",
    "\n",
    "# Afficher le résultat\n",
    "print(\"Le résultat de la division est :\", resultat)"
   ]
  },
  {
   "cell_type": "markdown",
   "metadata": {},
   "source": [
    "#### Question 11: Calcul du total des achats avec taxes (4 points)\n",
    "Vous devez créer un programme qui aide un client à calculer le coût total de ses achats dans un magasin. Le programme doit demander à l'utilisateur de saisir les prix (Décimal) de 5 articles, calculer le total avant taxes, appliquer les taxes, et afficher le total avant taxes, le montant des taxes, et le total après taxes."
   ]
  },
  {
   "cell_type": "code",
   "execution_count": null,
   "metadata": {},
   "outputs": [],
   "source": [
    "# Entrer les prix des 5 articles\n",
    "prix1 = float(input(\"Entrez le prix du premier article : \"))\n",
    "prix2 = float(input(\"Entrez le prix du deuxième article : \"))\n",
    "prix3 = float(input(\"Entrez le prix du troisième article : \"))\n",
    "prix4 = float(input(\"Entrez le prix du quatrième article : \"))\n",
    "prix5 = float(input(\"Entrez le prix du cinquième article : \"))\n",
    "\n",
    "# Calculer le total avant taxes\n",
    "total_avant_taxes = prix1 + prix2 + prix3 + prix4 + prix5\n",
    "\n",
    "# Taux de taxe\n",
    "taux_taxe = 0.15\n",
    "\n",
    "# Calculer le montant des taxes\n",
    "taxes = total_avant_taxes * taux_taxe\n",
    "\n",
    "# Calculer le total après taxes\n",
    "total_apres_taxes = total_avant_taxes + taxes\n",
    "\n",
    "# Afficher les résultats\n",
    "print(\"Total avant taxes :\", total_avant_taxes)\n",
    "print(\"Montant des taxes :\", taxes)\n",
    "print(\"Total après taxes :\", total_apres_taxes)"
   ]
  },
  {
   "cell_type": "markdown",
   "metadata": {},
   "source": [
    "#### Question 12: Calcul du nombre de poissons dans un lac après 10 ans (4 points)\n",
    "Contexte :\n",
    "Vous avez un lac dans lequel il y a un certain nombre de poissons à l'année 0. Chaque année, le nombre de poissons augmente de 5% par rapport à l'année précédente. Vous devez écrire un programme qui demande à l'utilisateur d'entrer le nombre initial de poissons (ce qui sera votre année 0) et qui calcule le nombre de poissons après 10 ans.\n",
    "\n"
   ]
  },
  {
   "cell_type": "code",
   "execution_count": null,
   "metadata": {},
   "outputs": [],
   "source": [
    "#Solution possible\n",
    "# N=P×(1+r)**n\n",
    "# N est le nombre de poissons après n années\n",
    "# P est le nombre initial de poissons\n",
    "# r est le taux de croissance annuel\n",
    "# n est le nombre d'années\n",
    "\n",
    "# Entrer le nombre initial de poissons\n",
    "nombre_initial_poissons = int(input(\"Entrez le nombre initial de poissons dans le lac : \"))\n",
    "\n",
    "# Taux de croissance annuel\n",
    "taux_croissance = 0.05\n",
    "\n",
    "# Nombre d'années\n",
    "nombre_annees = 10\n",
    "\n",
    "# Calculer le nombre de poissons après 10 ans\n",
    "nombre_poissons_10_ans = nombre_initial_poissons * (1 + taux_croissance) ** nombre_annees\n",
    "\n",
    "# Afficher le résultat\n",
    "print(\"Le nombre de poissons après 10 ans sera :\", round(nombre_poissons_10_ans))\n"
   ]
  }
 ],
 "metadata": {
  "kernelspec": {
   "display_name": "Python 3",
   "language": "python",
   "name": "python3"
  },
  "language_info": {
   "codemirror_mode": {
    "name": "ipython",
    "version": 3
   },
   "file_extension": ".py",
   "mimetype": "text/x-python",
   "name": "python",
   "nbconvert_exporter": "python",
   "pygments_lexer": "ipython3",
   "version": "3.10.11"
  }
 },
 "nbformat": 4,
 "nbformat_minor": 2
}
