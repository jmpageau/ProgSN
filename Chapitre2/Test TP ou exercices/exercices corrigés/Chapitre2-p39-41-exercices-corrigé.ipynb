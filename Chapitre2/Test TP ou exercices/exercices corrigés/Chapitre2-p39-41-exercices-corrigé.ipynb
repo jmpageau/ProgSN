{
 "cells": [
  {
   "cell_type": "markdown",
   "metadata": {},
   "source": [
    "### 1. Écrivez un programme pour afficher votre nom (`str`), votre âge (`int`) et si vous êtes un adulte ou non (`bool`), et ensuite le contenu de ces variables. "
   ]
  },
  {
   "cell_type": "code",
   "execution_count": 1,
   "metadata": {},
   "outputs": [
    {
     "name": "stdout",
     "output_type": "stream",
     "text": [
      "Je m'appelle Sébastien\n",
      "J'ai 36 ans\n",
      "Je suis un adulte: True\n"
     ]
    }
   ],
   "source": [
    "nom = \"Sébastien\"\n",
    "age = 36\n",
    "est_adulte = True\n",
    "\n",
    "print(f\"Je m'appelle {nom}\")\n",
    "print(f\"J'ai {age} ans\")\n",
    "print(f\"Je suis un adulte: {est_adulte}\")\n"
   ]
  },
  {
   "cell_type": "markdown",
   "metadata": {},
   "source": [
    "### 2. Écrivez un programme pour calculer le montant total d'une facture à partir du montant avant taxes. Le montant de la facture (nombre à virgule) doit être dans une variable. Calculez la TPS (5 %), la TVQ (9,975 %) et le montant total, puis stockez le contenu des variables avant d'afficher le tout. Le résultat attendu est celui-ci:\n",
    "\n"
   ]
  },
  {
   "cell_type": "code",
   "execution_count": 1,
   "metadata": {},
   "outputs": [
    {
     "name": "stdout",
     "output_type": "stream",
     "text": [
      "Montant facture: 10.0$\n",
      "Montant TPS: 0.5$\n",
      "Montant TVQ: 0.9975$\n",
      "Montant Total: 11.4975$\n"
     ]
    }
   ],
   "source": [
    "facture = 10.0\n",
    "tps = facture * 0.05\n",
    "tvq = facture * 0.09975\n",
    "montant_total = facture + tps + tvq\n",
    "\n",
    "print(f\"Montant facture: {facture}$\")\n",
    "print(f\"Montant TPS: {tps}$\")\n",
    "print(f\"Montant TVQ: {tvq}$\")\n",
    "print(f\"Montant Total: {montant_total}$\")\n"
   ]
  },
  {
   "cell_type": "markdown",
   "metadata": {},
   "source": [
    "### 3. Calculez le volume d'une sphère de 3 m de rayon en définissant au préalable des variables pour r et π. La formule pour calculer le volume d'une sphère est :\n",
    "$V = \\frac{4}{3} \\pi r^3$\n"
   ]
  },
  {
   "cell_type": "code",
   "execution_count": 2,
   "metadata": {},
   "outputs": [
    {
     "name": "stdout",
     "output_type": "stream",
     "text": [
      "Le volume de la sphère est: 113.09759999999999 m^3\n"
     ]
    }
   ],
   "source": [
    "r = 3\n",
    "pi = 3.1416\n",
    "volume = (4/3) * pi * r**3\n",
    "print(f\"Le volume de la sphère est: {volume} m^3\")\n"
   ]
  },
  {
   "cell_type": "markdown",
   "metadata": {},
   "source": [
    "### 4. Écrivez un programme qui calcule la longueur de l'hypoténuse d'un triangle rectangle à partir des variables représentant les longueurs des deux côtés a et b.\n"
   ]
  },
  {
   "cell_type": "code",
   "execution_count": 4,
   "metadata": {},
   "outputs": [
    {
     "name": "stdout",
     "output_type": "stream",
     "text": [
      "L'hypoténuse est: 5.0\n"
     ]
    }
   ],
   "source": [
    "import math\n",
    "\n",
    "a = 3\n",
    "b = 4\n",
    "hypotenuse = math.sqrt(a**2 + b**2)\n",
    "print(f\"L'hypoténuse est: {hypotenuse}\")\n"
   ]
  },
  {
   "cell_type": "markdown",
   "metadata": {},
   "source": [
    "### 5. Sachant que la constante gravitationnelle universelle est \\(G = 6,6743 \\times 10^{-11} \\, \\text{Nm}^2/\\text{kg}^2\\), que la masse de la Terre est \\(M = 5,972 \\times 10^{24} \\, \\text{kg}\\), et que le rayon de la Terre est \\(R = 6 371 \\, \\text{km}\\), écrivez un programme qui calcule le module de l'accélération gravitationnelle à la surface de la Terre. La formule pour calculer l'accélération gravitationnelle est:\n",
    "$a = \\frac{GM}{R^2}$\n"
   ]
  },
  {
   "cell_type": "code",
   "execution_count": 6,
   "metadata": {},
   "outputs": [
    {
     "name": "stdout",
     "output_type": "stream",
     "text": [
      "L'accélération gravitationnelle à la surface de la Terre est: 9.819973426224687 m/s^2\n"
     ]
    }
   ],
   "source": [
    "G = 6.6743e-11  # Nm^2/kg^2\n",
    "M = 5.972e24  # kg\n",
    "R = 6371e3  # m\n",
    "\n",
    "a = G * M / R**2\n",
    "print(f\"L'accélération gravitationnelle à la surface de la Terre est: {a} m/s^2\")\n",
    "\n"
   ]
  },
  {
   "cell_type": "markdown",
   "metadata": {},
   "source": [
    "### 6. À une distance \\(d\\) de la surface de la Terre, le module de l'accélération gravitationnelle est donné par l'expression suivante:\n",
    "$a = \\frac{GM}{(R+d)^2}$\n",
    "a. Écrivez un programme qui calcule a et vérifiez qu'il donne bien \\(g = 9,82 \\, \\text{m/s}^2\\) lorsque \\(d = 0 \\, \\text{km}\\).\n"
   ]
  },
  {
   "cell_type": "code",
   "execution_count": null,
   "metadata": {},
   "outputs": [],
   "source": [
    "d = 0  # m\n",
    "a = G * M / (R + d)**2\n",
    "print(f\"L'accélération gravitationnelle est: {a} m/s^2\")\n"
   ]
  },
  {
   "cell_type": "markdown",
   "metadata": {},
   "source": [
    "b. Par essais et erreurs, trouvez, à quatre chiffres significatifs près, la distance \\(d \\, (\\text{en mètres})\\) à laquelle le module de l'accélération gravitationnelle donne 1,000 m/s^2.\n"
   ]
  },
  {
   "cell_type": "code",
   "execution_count": 7,
   "metadata": {},
   "outputs": [
    {
     "name": "stdout",
     "output_type": "stream",
     "text": [
      "La distance d pour que l'accélération soit de 1.000 m/s^2 est d'environ: 13593698.7455 m\n"
     ]
    }
   ],
   "source": [
    "# On peut utiliser une approche de recherche ou de calcul direct pour trouver la valeur de d\n",
    "from scipy.optimize import fsolve\n",
    "\n",
    "def equation(d):\n",
    "    return G * M / (R + d)**2 - 1.000\n",
    "\n",
    "d_solution = fsolve(equation, 1e7)  # On part d'une estimation initiale de 10^7 mètres\n",
    "print(f\"La distance d pour que l'accélération soit de 1.000 m/s^2 est d'environ: {d_solution[0]:.4f} m\")\n"
   ]
  }
 ],
 "metadata": {
  "kernelspec": {
   "display_name": "Python 3",
   "language": "python",
   "name": "python3"
  },
  "language_info": {
   "codemirror_mode": {
    "name": "ipython",
    "version": 3
   },
   "file_extension": ".py",
   "mimetype": "text/x-python",
   "name": "python",
   "nbconvert_exporter": "python",
   "pygments_lexer": "ipython3",
   "version": "3.10.11"
  }
 },
 "nbformat": 4,
 "nbformat_minor": 2
}
