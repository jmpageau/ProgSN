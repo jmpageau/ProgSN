{
 "cells": [
  {
   "cell_type": "markdown",
   "metadata": {},
   "source": [
    "# Exercices Python\n",
    "\n",
    "Effectuez les exercices suivants directement dans la console Python.\n",
    "\n",
    "### 1. Multipliez 26 et 13\n"
   ]
  },
  {
   "cell_type": "code",
   "execution_count": 49,
   "metadata": {},
   "outputs": [
    {
     "data": {
      "text/plain": [
       "338"
      ]
     },
     "execution_count": 49,
     "metadata": {},
     "output_type": "execute_result"
    }
   ],
   "source": [
    "26*13"
   ]
  },
  {
   "cell_type": "markdown",
   "metadata": {},
   "source": [
    "### 2. Calculez l'âge approximatif d'une personne née en 1985.\n",
    "\n",
    "Donnez la réponse en années."
   ]
  },
  {
   "cell_type": "code",
   "execution_count": 44,
   "metadata": {},
   "outputs": [
    {
     "data": {
      "text/plain": [
       "39"
      ]
     },
     "execution_count": 44,
     "metadata": {},
     "output_type": "execute_result"
    }
   ],
   "source": [
    "from datetime import datetime\n",
    "import math\n",
    "current_year = datetime.now().year\n",
    "age = current_year - 1985\n",
    "age"
   ]
  },
  {
   "cell_type": "markdown",
   "metadata": {},
   "source": [
    "### 3. Calculez la circonférence d'un cercle dont le rayon est de 4 cm.\n",
    "La formule pour calculer la circonférence d'un cercle : 𝐶=2𝜋𝑟. La valeur de 𝜋 ≈ 3,1416."
   ]
  },
  {
   "cell_type": "code",
   "execution_count": 4,
   "metadata": {},
   "outputs": [
    {
     "data": {
      "text/plain": [
       "25.1328"
      ]
     },
     "execution_count": 4,
     "metadata": {},
     "output_type": "execute_result"
    }
   ],
   "source": [
    "rayon = 4  # cm\n",
    "circonference = 2 * 3.1416 * rayon\n",
    "circonference"
   ]
  },
  {
   "cell_type": "markdown",
   "metadata": {},
   "source": [
    "### 4. Calculez l'aire d'un cercle dont le diamètre est de 8 m.\n",
    "La formule pour calculer l'aire d'un cercle :  𝐴 = 𝜋𝑟2."
   ]
  },
  {
   "cell_type": "code",
   "execution_count": 3,
   "metadata": {},
   "outputs": [
    {
     "data": {
      "text/plain": [
       "50.2656"
      ]
     },
     "execution_count": 3,
     "metadata": {},
     "output_type": "execute_result"
    }
   ],
   "source": [
    "diametre = 8  # m\n",
    "rayon = diametre / 2\n",
    "aire = 3.1416 * rayon**2\n",
    "aire"
   ]
  },
  {
   "cell_type": "markdown",
   "metadata": {},
   "source": [
    "### 5. Calculez le pourboire à laisser sur une facture de 57,35 $ selon la qualité du service reçu.\n",
    "a. Moyenne (10%)"
   ]
  },
  {
   "cell_type": "code",
   "execution_count": 2,
   "metadata": {},
   "outputs": [
    {
     "data": {
      "text/plain": [
       "5.735"
      ]
     },
     "execution_count": 2,
     "metadata": {},
     "output_type": "execute_result"
    }
   ],
   "source": [
    "facture = 57.35\n",
    "pourboire_moyenne = facture * 0.10\n",
    "pourboire_moyenne"
   ]
  },
  {
   "cell_type": "markdown",
   "metadata": {},
   "source": [
    "b. Bonne (15%)"
   ]
  },
  {
   "cell_type": "code",
   "execution_count": 48,
   "metadata": {},
   "outputs": [
    {
     "data": {
      "text/plain": [
       "8.6025"
      ]
     },
     "execution_count": 48,
     "metadata": {},
     "output_type": "execute_result"
    }
   ],
   "source": [
    "pourboire_bonne = facture * 0.15\n",
    "pourboire_bonne"
   ]
  },
  {
   "cell_type": "markdown",
   "metadata": {},
   "source": [
    "c. Excellente (20%)"
   ]
  },
  {
   "cell_type": "code",
   "execution_count": 5,
   "metadata": {},
   "outputs": [
    {
     "data": {
      "text/plain": [
       "11.47"
      ]
     },
     "execution_count": 5,
     "metadata": {},
     "output_type": "execute_result"
    }
   ],
   "source": [
    "pourboire_excellente = facture * 0.20\n",
    "pourboire_excellente"
   ]
  },
  {
   "cell_type": "markdown",
   "metadata": {},
   "source": [
    "### 6. Calculez les taxes et le total à payer pour l'achat d'un bien dont le prix est de 118,92 $.\n",
    "Le taux de la TPS est 5%, celui de la TVQ est 9,975%, et le total à payer se calcule ainsi :"
   ]
  },
  {
   "cell_type": "code",
   "execution_count": null,
   "metadata": {},
   "outputs": [],
   "source": [
    "prix = 118.92\n",
    "tps = 0.05\n",
    "tvq = 0.09975\n",
    "\n",
    "montant_tps = prix * tps\n",
    "montant_tvq = prix * tvq\n",
    "total = prix + montant_tps + montant_tvq\n",
    "total"
   ]
  },
  {
   "cell_type": "markdown",
   "metadata": {},
   "source": [
    "### 7. Calculez à quelle hauteur se trouve une balle lancée du sommet d'un immeuble après un temps 𝑡 de 4 secondes si sa position verticale est donnée par : ℎ(𝑡)=−4,9𝑡<sup>2</sup>+0𝑡+50"
   ]
  },
  {
   "cell_type": "code",
   "execution_count": 6,
   "metadata": {},
   "outputs": [
    {
     "data": {
      "text/plain": [
       "11.599999999999994"
      ]
     },
     "execution_count": 6,
     "metadata": {},
     "output_type": "execute_result"
    }
   ],
   "source": [
    "t = 4\n",
    "h = -4.9 * t**2 + 10 * t + 50\n",
    "h"
   ]
  },
  {
   "cell_type": "markdown",
   "metadata": {},
   "source": [
    "### 8. Calculez\n",
    "a. la valeur de l'hypoténuse d'un triangle rectangle dont les côtés de l'angle droit mesurent 3 et 4 unités, respectivement;"
   ]
  },
  {
   "cell_type": "code",
   "execution_count": 10,
   "metadata": {},
   "outputs": [
    {
     "data": {
      "text/plain": [
       "5.0"
      ]
     },
     "execution_count": 10,
     "metadata": {},
     "output_type": "execute_result"
    }
   ],
   "source": [
    "\n",
    "cote_a = 3\n",
    "cote_b = 4\n",
    "hypotenuse = math.sqrt(cote_a**2 + cote_b**2)\n",
    "hypotenuse"
   ]
  },
  {
   "cell_type": "markdown",
   "metadata": {},
   "source": [
    "b. la valeur du troisième côté d'un triangle rectangle dont l'hypoténuse mesure 8 unités et un des autres côtés 5 unités."
   ]
  },
  {
   "cell_type": "code",
   "execution_count": 47,
   "metadata": {},
   "outputs": [
    {
     "data": {
      "text/plain": [
       "6.244997998398398"
      ]
     },
     "execution_count": 47,
     "metadata": {},
     "output_type": "execute_result"
    }
   ],
   "source": [
    "hypotenuse = 8\n",
    "cote_a = 5\n",
    "cote_b = math.sqrt(hypotenuse**2 - cote_a**2)\n",
    "cote_b"
   ]
  },
  {
   "cell_type": "markdown",
   "metadata": {},
   "source": [
    "### 9. Calculez le volume d'une sphère de 3 m de rayon.\n",
    "La formule pour calculer le volume d'une sphère : 𝑉=$\\frac{4𝜋𝑟^3}{3}$"
   ]
  },
  {
   "cell_type": "code",
   "execution_count": 14,
   "metadata": {},
   "outputs": [
    {
     "data": {
      "text/plain": [
       "113.09759999999999"
      ]
     },
     "execution_count": 14,
     "metadata": {},
     "output_type": "execute_result"
    }
   ],
   "source": [
    "rayon = 3  # m\n",
    "volume = (4/3) * 3.1416 * rayon**3\n",
    "volume"
   ]
  },
  {
   "cell_type": "markdown",
   "metadata": {},
   "source": [
    "### 10. Calculez la valeur de la fonction $f(x)=\\frac{x^2-2}{3(3x+2)^2}$ lorsque x = -2.\n"
   ]
  },
  {
   "cell_type": "code",
   "execution_count": 1,
   "metadata": {},
   "outputs": [
    {
     "data": {
      "text/plain": [
       "0.041666666666666664"
      ]
     },
     "execution_count": 1,
     "metadata": {},
     "output_type": "execute_result"
    }
   ],
   "source": [
    "x = -2\n",
    "f_x = (x**2 - 2) / (3 * (3 * x + 2)**2)\n",
    "f_x"
   ]
  },
  {
   "cell_type": "markdown",
   "metadata": {},
   "source": [
    "### 11. Convertissez les extraits de programme suivants en notation mathématique (par exemple, x**2 devient $x^2$).\n",
    "\n",
    "a. 7/3 ** 5 + 2 ** 0.5"
   ]
  },
  {
   "cell_type": "markdown",
   "metadata": {},
   "source": [
    "b. -9 ** (1/5)/2 + 1"
   ]
  },
  {
   "cell_type": "markdown",
   "metadata": {},
   "source": [
    "c. ((3/2) ** 0.5)*(-3 + 2)/(-1 ** 2 - 3*7) ** 2"
   ]
  },
  {
   "cell_type": "markdown",
   "metadata": {},
   "source": [
    "### 12. Calculez l'erreur absolue et l'erreur relative associées à l'évaluation numérique de $\\sqrt[3]{7^3}$."
   ]
  },
  {
   "cell_type": "code",
   "execution_count": 42,
   "metadata": {},
   "outputs": [
    {
     "data": {
      "text/plain": [
       "-8.881784197001252e-16"
      ]
     },
     "execution_count": 42,
     "metadata": {},
     "output_type": "execute_result"
    }
   ],
   "source": [
    "# Calculé la valeur absolue ici\n",
    "valeur_exacte = 7\n",
    "valeur_approx = (7**3)**(1/3)\n",
    "erreur_absolue = valeur_approx - valeur_exacte\n",
    "erreur_absolue\n"
   ]
  },
  {
   "cell_type": "code",
   "execution_count": 43,
   "metadata": {},
   "outputs": [
    {
     "data": {
      "text/plain": [
       "-1.2688263138573218e-14"
      ]
     },
     "execution_count": 43,
     "metadata": {},
     "output_type": "execute_result"
    }
   ],
   "source": [
    "# Calculé la valeur relative ici\n",
    "erreur_relative = 100 * (valeur_approx - valeur_exacte)/valeur_exacte\n",
    "erreur_relative"
   ]
  },
  {
   "cell_type": "markdown",
   "metadata": {},
   "source": [
    "### 13. Soit l'opération suivante : $\\frac{1}{1+\\frac{1}{9}}$\n",
    "\n",
    "a. À l'aide des opérations sur les fractions, calculez la valeur exacte de cette opération."
   ]
  },
  {
   "cell_type": "code",
   "execution_count": 24,
   "metadata": {},
   "outputs": [
    {
     "data": {
      "text/plain": [
       "0.9"
      ]
     },
     "execution_count": 24,
     "metadata": {},
     "output_type": "execute_result"
    }
   ],
   "source": [
    "# Entrée votre réponse après le signe égal\n",
    "réponse = 0.9\n",
    "\n",
    "# Ne pas modifier la ligne ci-dessous\n",
    "réponse"
   ]
  },
  {
   "cell_type": "markdown",
   "metadata": {},
   "source": [
    "b. Effectuez l'évaluation numérique de l'expression avec Python. Quelle est l'erreur absolue ? Quelle est l'erreur relative ?"
   ]
  },
  {
   "cell_type": "code",
   "execution_count": 33,
   "metadata": {},
   "outputs": [
    {
     "data": {
      "text/plain": [
       "-1.1102230246251565e-16"
      ]
     },
     "execution_count": 33,
     "metadata": {},
     "output_type": "execute_result"
    }
   ],
   "source": [
    "# Calculé la valeur absolue ici\n",
    "operation_python = 1 / (1 + 1/9)\n",
    "erreur_absolue = operation_python - réponse\n",
    "erreur_absolue\n"
   ]
  },
  {
   "cell_type": "code",
   "execution_count": 35,
   "metadata": {},
   "outputs": [
    {
     "data": {
      "text/plain": [
       "-1.2335811384723962e-14"
      ]
     },
     "execution_count": 35,
     "metadata": {},
     "output_type": "execute_result"
    }
   ],
   "source": [
    "# Calculé la valeur relative ici\n",
    "erreur_relative = 100 * (operation_python - réponse)/réponse\n",
    "erreur_relative"
   ]
  }
 ],
 "metadata": {
  "kernelspec": {
   "display_name": "Python 3",
   "language": "python",
   "name": "python3"
  },
  "language_info": {
   "codemirror_mode": {
    "name": "ipython",
    "version": 3
   },
   "file_extension": ".py",
   "mimetype": "text/x-python",
   "name": "python",
   "nbconvert_exporter": "python",
   "pygments_lexer": "ipython3",
   "version": "3.10.11"
  }
 },
 "nbformat": 4,
 "nbformat_minor": 2
}
